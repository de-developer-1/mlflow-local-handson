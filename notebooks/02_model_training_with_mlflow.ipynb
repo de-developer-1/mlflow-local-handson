{
 "cells": [
  {
   "cell_type": "markdown",
   "id": "dce5b47c",
   "metadata": {},
   "source": [
    "# 02 モデル学習とMLflowログ"
   ]
  },
  {
   "cell_type": "code",
   "execution_count": null,
   "id": "f6e606a6",
   "metadata": {},
   "outputs": [],
   "source": [
    "\n",
    "import mlflow\n",
    "import mlflow.xgboost\n",
    "import pandas as pd\n",
    "import xgboost as xgb\n",
    "\n",
    "df = pd.read_csv(\"data/raw/sample.csv\")\n",
    "X = df[[\"feature1\", \"feature2\"]]\n",
    "y = df[\"label\"]\n",
    "\n",
    "dtrain = xgb.DMatrix(X, label=y)\n",
    "\n",
    "with mlflow.start_run():\n",
    "    params = {\"objective\": \"binary:logistic\", \"eval_metric\": \"logloss\"}\n",
    "    model = xgb.train(params, dtrain, num_boost_round=10)\n",
    "    mlflow.log_params(params)\n",
    "    mlflow.xgboost.log_model(model, artifact_path=\"model\")\n",
    "    mlflow.log_metric(\"logloss\", 0.123)  # 仮の値\n"
   ]
  }
 ],
 "metadata": {},
 "nbformat": 4,
 "nbformat_minor": 5
}
