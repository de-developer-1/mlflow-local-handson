{
 "cells": [
  {
   "cell_type": "markdown",
   "id": "b77a3f36",
   "metadata": {},
   "source": [
    "# 03 モデル推論"
   ]
  },
  {
   "cell_type": "code",
   "execution_count": null,
   "id": "2af2c086",
   "metadata": {},
   "outputs": [],
   "source": [
    "\n",
    "import mlflow.xgboost\n",
    "import pandas as pd\n",
    "import xgboost as xgb\n",
    "\n",
    "model = mlflow.xgboost.load_model(\"runs:/<run_id>/model\")  # 適宜run_idを指定\n",
    "df = pd.read_csv(\"data/raw/sample.csv\")\n",
    "X = df[[\"feature1\", \"feature2\"]]\n",
    "dtest = xgb.DMatrix(X)\n",
    "preds = model.predict(dtest)\n",
    "print(preds[:5])\n"
   ]
  }
 ],
 "metadata": {},
 "nbformat": 4,
 "nbformat_minor": 5
}
