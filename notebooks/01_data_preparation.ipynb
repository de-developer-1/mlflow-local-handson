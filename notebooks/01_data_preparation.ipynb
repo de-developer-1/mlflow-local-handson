{
 "cells": [
  {
   "cell_type": "markdown",
   "id": "acf2ecfa",
   "metadata": {},
   "source": [
    "# 01 データ準備"
   ]
  },
  {
   "cell_type": "code",
   "execution_count": null,
   "id": "322ecc07",
   "metadata": {},
   "outputs": [],
   "source": [
    "\n",
    "from pyspark.sql import SparkSession\n",
    "from delta import configure_spark_with_delta_pip\n",
    "\n",
    "builder = SparkSession.builder     .appName(\"DeltaExample\")     .config(\"spark.sql.extensions\", \"io.delta.sql.DeltaSparkSessionExtension\")     .config(\"spark.sql.catalog.spark_catalog\", \"org.apache.spark.sql.delta.catalog.DeltaCatalog\")\n",
    "\n",
    "spark = configure_spark_with_delta_pip(builder).getOrCreate()\n",
    "\n",
    "df = spark.read.csv(\"data/raw/sample.csv\", header=True, inferSchema=True)\n",
    "df.write.format(\"delta\").mode(\"overwrite\").save(\"data/delta/sample\")\n",
    "spark.read.format(\"delta\").load(\"data/delta/sample\").show(5)\n"
   ]
  }
 ],
 "metadata": {},
 "nbformat": 4,
 "nbformat_minor": 5
}
